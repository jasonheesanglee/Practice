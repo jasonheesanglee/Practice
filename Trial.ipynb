{
 "cells": [
  {
   "cell_type": "code",
   "execution_count": 1,
   "id": "39363d9b",
   "metadata": {},
   "outputs": [
    {
     "name": "stdout",
     "output_type": "stream",
     "text": [
      "This is a trial on Jupyter Notebook\n"
     ]
    }
   ],
   "source": [
    "print(\"This is a trial on Jupyter Notebook\")"
   ]
  },
  {
   "cell_type": "code",
   "execution_count": 2,
   "id": "81d71bdb",
   "metadata": {},
   "outputs": [
    {
     "name": "stdout",
     "output_type": "stream",
     "text": [
      "can this go on pycharm?\n"
     ]
    }
   ],
   "source": [
    "print(\"can this go on pycharm?\")"
   ]
  },
  {
   "cell_type": "code",
   "execution_count": null,
   "id": "933983ca",
   "metadata": {},
   "outputs": [],
   "source": [
    "https://github.com/jasonheesanglee/Practice"
   ]
  }
 ],
 "metadata": {
  "kernelspec": {
   "display_name": "Python 3 (ipykernel)",
   "language": "python",
   "name": "python3"
  },
  "language_info": {
   "codemirror_mode": {
    "name": "ipython",
    "version": 3
   },
   "file_extension": ".py",
   "mimetype": "text/x-python",
   "name": "python",
   "nbconvert_exporter": "python",
   "pygments_lexer": "ipython3",
   "version": "3.10.9"
  }
 },
 "nbformat": 4,
 "nbformat_minor": 5
}
