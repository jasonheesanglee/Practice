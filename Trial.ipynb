{
 "cells": [
  {
   "cell_type": "code",
   "execution_count": 1,
   "id": "39363d9b",
   "metadata": {},
   "outputs": [
    {
     "name": "stdout",
     "output_type": "stream",
     "text": [
      "This is a trial on Jupyter Notebook\n"
     ]
    }
   ],
   "source": [
    "print(\"This is a trial on Jupyter Notebook\")"
   ]
  },
  {
   "cell_type": "code",
   "execution_count": 2,
   "id": "81d71bdb",
   "metadata": {},
   "outputs": [
    {
     "name": "stdout",
     "output_type": "stream",
     "text": [
      "can this go on pycharm?\n"
     ]
    }
   ],
   "source": [
    "print(\"can this go on pycharm?\")"
   ]
  },
  {
   "cell_type": "code",
   "execution_count": 1,
   "id": "933983ca",
   "metadata": {},
   "outputs": [
    {
     "ename": "SyntaxError",
     "evalue": "invalid syntax (2134327129.py, line 1)",
     "output_type": "error",
     "traceback": [
      "\u001b[0;36m  Cell \u001b[0;32mIn[1], line 1\u001b[0;36m\u001b[0m\n\u001b[0;31m    https://github.com/jasonheesanglee/Practice\u001b[0m\n\u001b[0m          ^\u001b[0m\n\u001b[0;31mSyntaxError\u001b[0m\u001b[0;31m:\u001b[0m invalid syntax\n"
     ]
    }
   ],
   "source": [
    "https://github.com/jasonheesanglee/Practice"
   ]
  },
  {
   "cell_type": "code",
   "execution_count": 4,
   "id": "29062945",
   "metadata": {},
   "outputs": [],
   "source": [
    "ex = [1, 2, 3, 4, 5]"
   ]
  },
  {
   "cell_type": "code",
   "execution_count": 14,
   "id": "c43ca2f5",
   "metadata": {},
   "outputs": [],
   "source": [
    "def swap_value(x, y):\n",
    "    temp = x\n",
    "    x = y\n",
    "    y = temp"
   ]
  },
  {
   "cell_type": "code",
   "execution_count": 6,
   "id": "3babfa41",
   "metadata": {},
   "outputs": [],
   "source": [
    "def swap_offset(offset_x, offset_y):\n",
    "    temp = ex[offset_x]\n",
    "    ex[offset_x] = ex[offset_y]\n",
    "    ex[offset_y] = temp\n"
   ]
  },
  {
   "cell_type": "code",
   "execution_count": 7,
   "id": "e385d63f",
   "metadata": {},
   "outputs": [],
   "source": [
    "def swap_reference(list, offset_x, offset_y):\n",
    "    temp = list[offset_x]\n",
    "    list[offset_x] = list[offset_y]\n",
    "    list[offset_y] = temp"
   ]
  },
  {
   "cell_type": "code",
   "execution_count": 15,
   "id": "f1dcfc7b",
   "metadata": {},
   "outputs": [
    {
     "data": {
      "text/plain": [
       "[1, 2, 3, 4, 5]"
      ]
     },
     "execution_count": 15,
     "metadata": {},
     "output_type": "execute_result"
    }
   ],
   "source": [
    "ex = [1, 2, 3, 4, 5]\n",
    "swap_value(ex[0], ex[1])\n",
    "ex"
   ]
  },
  {
   "cell_type": "code",
   "execution_count": 13,
   "id": "74087c98",
   "metadata": {},
   "outputs": [
    {
     "data": {
      "text/plain": [
       "[2, 1, 3, 4, 5]"
      ]
     },
     "execution_count": 13,
     "metadata": {},
     "output_type": "execute_result"
    }
   ],
   "source": [
    "ex = [1, 2, 3, 4, 5]\n",
    "swap_offset(0,1)\n",
    "ex"
   ]
  },
  {
   "cell_type": "code",
   "execution_count": 16,
   "id": "7c96f1e0",
   "metadata": {},
   "outputs": [
    {
     "data": {
      "text/plain": [
       "[1, 2, 3, 5, 4]"
      ]
     },
     "execution_count": 16,
     "metadata": {},
     "output_type": "execute_result"
    }
   ],
   "source": [
    "ex = [1, 2, 3, 4, 5]\n",
    "swap_reference(ex, 3, 4)\n",
    "ex"
   ]
  },
  {
   "cell_type": "code",
   "execution_count": 17,
   "id": "a576522d",
   "metadata": {},
   "outputs": [
    {
     "name": "stdout",
     "output_type": "stream",
     "text": [
      "[1, 2, 3, 5, 4]\n"
     ]
    }
   ],
   "source": [
    "print(ex)"
   ]
  },
  {
   "cell_type": "code",
   "execution_count": 18,
   "id": "2eae9159",
   "metadata": {},
   "outputs": [
    {
     "name": "stdout",
     "output_type": "stream",
     "text": [
      "Input Number for Factorial Calculation: 5\n",
      "120\n"
     ]
    }
   ],
   "source": [
    "def factorial(n):\n",
    "    if n == 1:\n",
    "        return 1\n",
    "    else:\n",
    "        return n * factorial(n-1)\n",
    "\n",
    "print(factorial(int(input(\"Input Number for Factorial Calculation: \"))))"
   ]
  },
  {
   "cell_type": "code",
   "execution_count": null,
   "id": "858779f4",
   "metadata": {},
   "outputs": [],
   "source": []
  }
 ],
 "metadata": {
  "kernelspec": {
   "display_name": "Python 3 (ipykernel)",
   "language": "python",
   "name": "python3"
  },
  "language_info": {
   "codemirror_mode": {
    "name": "ipython",
    "version": 3
   },
   "file_extension": ".py",
   "mimetype": "text/x-python",
   "name": "python",
   "nbconvert_exporter": "python",
   "pygments_lexer": "ipython3",
   "version": "3.10.9"
  }
 },
 "nbformat": 4,
 "nbformat_minor": 5
}
