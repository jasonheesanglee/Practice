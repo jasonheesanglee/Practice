{
 "cells": [
  {
   "cell_type": "code",
   "execution_count": 1,
   "id": "39363d9b",
   "metadata": {},
   "outputs": [
    {
     "name": "stdout",
     "output_type": "stream",
     "text": [
      "This is a trial on Jupyter Notebook\n"
     ]
    }
   ],
   "source": [
    "print(\"This is a trial on Jupyter Notebook\")"
   ]
  },
  {
   "cell_type": "code",
   "execution_count": 2,
   "id": "81d71bdb",
   "metadata": {},
   "outputs": [
    {
     "name": "stdout",
     "output_type": "stream",
     "text": [
      "can this go on pycharm?\n"
     ]
    }
   ],
   "source": [
    "print(\"can this go on pycharm?\")"
   ]
  },
  {
   "cell_type": "code",
   "execution_count": 1,
   "id": "933983ca",
   "metadata": {},
   "outputs": [
    {
     "ename": "SyntaxError",
     "evalue": "invalid syntax (2134327129.py, line 1)",
     "output_type": "error",
     "traceback": [
      "\u001b[0;36m  Cell \u001b[0;32mIn[1], line 1\u001b[0;36m\u001b[0m\n\u001b[0;31m    https://github.com/jasonheesanglee/Practice\u001b[0m\n\u001b[0m          ^\u001b[0m\n\u001b[0;31mSyntaxError\u001b[0m\u001b[0;31m:\u001b[0m invalid syntax\n"
     ]
    }
   ],
   "source": [
    "https://github.com/jasonheesanglee/Practice"
   ]
  },
  {
   "cell_type": "code",
   "execution_count": 4,
   "id": "29062945",
   "metadata": {},
   "outputs": [],
   "source": [
    "ex = [1, 2, 3, 4, 5]"
   ]
  },
  {
   "cell_type": "code",
   "execution_count": 14,
   "id": "c43ca2f5",
   "metadata": {},
   "outputs": [],
   "source": [
    "def swap_value(x, y):\n",
    "    temp = x\n",
    "    x = y\n",
    "    y = temp"
   ]
  },
  {
   "cell_type": "code",
   "execution_count": 6,
   "id": "3babfa41",
   "metadata": {},
   "outputs": [],
   "source": [
    "def swap_offset(offset_x, offset_y):\n",
    "    temp = ex[offset_x]\n",
    "    ex[offset_x] = ex[offset_y]\n",
    "    ex[offset_y] = temp\n"
   ]
  },
  {
   "cell_type": "code",
   "execution_count": 7,
   "id": "e385d63f",
   "metadata": {},
   "outputs": [],
   "source": [
    "def swap_reference(list, offset_x, offset_y):\n",
    "    temp = list[offset_x]\n",
    "    list[offset_x] = list[offset_y]\n",
    "    list[offset_y] = temp"
   ]
  },
  {
   "cell_type": "code",
   "execution_count": 15,
   "id": "f1dcfc7b",
   "metadata": {},
   "outputs": [
    {
     "data": {
      "text/plain": [
       "[1, 2, 3, 4, 5]"
      ]
     },
     "execution_count": 15,
     "metadata": {},
     "output_type": "execute_result"
    }
   ],
   "source": [
    "ex = [1, 2, 3, 4, 5]\n",
    "swap_value(ex[0], ex[1])\n",
    "ex"
   ]
  },
  {
   "cell_type": "code",
   "execution_count": 13,
   "id": "74087c98",
   "metadata": {},
   "outputs": [
    {
     "data": {
      "text/plain": [
       "[2, 1, 3, 4, 5]"
      ]
     },
     "execution_count": 13,
     "metadata": {},
     "output_type": "execute_result"
    }
   ],
   "source": [
    "ex = [1, 2, 3, 4, 5]\n",
    "swap_offset(0,1)\n",
    "ex"
   ]
  },
  {
   "cell_type": "code",
   "execution_count": 16,
   "id": "7c96f1e0",
   "metadata": {},
   "outputs": [
    {
     "data": {
      "text/plain": [
       "[1, 2, 3, 5, 4]"
      ]
     },
     "execution_count": 16,
     "metadata": {},
     "output_type": "execute_result"
    }
   ],
   "source": [
    "ex = [1, 2, 3, 4, 5]\n",
    "swap_reference(ex, 3, 4)\n",
    "ex"
   ]
  },
  {
   "cell_type": "code",
   "execution_count": 17,
   "id": "a576522d",
   "metadata": {},
   "outputs": [
    {
     "name": "stdout",
     "output_type": "stream",
     "text": [
      "[1, 2, 3, 5, 4]\n"
     ]
    }
   ],
   "source": [
    "print(ex)"
   ]
  },
  {
   "cell_type": "code",
   "execution_count": 18,
   "id": "2eae9159",
   "metadata": {},
   "outputs": [
    {
     "name": "stdout",
     "output_type": "stream",
     "text": [
      "Input Number for Factorial Calculation: 5\n",
      "120\n"
     ]
    }
   ],
   "source": [
    "def factorial(n):\n",
    "    if n == 1:\n",
    "        return 1\n",
    "    else:\n",
    "        return n * factorial(n-1)\n",
    "\n",
    "print(factorial(int(input(\"Input Number for Factorial Calculation: \"))))"
   ]
  },
  {
   "cell_type": "code",
   "execution_count": 3,
   "id": "858779f4",
   "metadata": {},
   "outputs": [],
   "source": [
    "from collections import deque"
   ]
  },
  {
   "cell_type": "code",
   "execution_count": 6,
   "id": "4e807e7e",
   "metadata": {},
   "outputs": [
    {
     "name": "stdout",
     "output_type": "stream",
     "text": [
      "deque([0, 1, 2, 3, 4])\n",
      "deque([10, 0, 1, 2, 3, 4])\n"
     ]
    }
   ],
   "source": [
    "deque_list = deque()\n",
    "for i in range (5):\n",
    "    deque_list.append(i)\n",
    "print(deque_list)\n",
    "deque_list.appendleft(10)\n",
    "print(deque_list)\n"
   ]
  },
  {
   "cell_type": "code",
   "execution_count": 7,
   "id": "f2fb1543",
   "metadata": {},
   "outputs": [
    {
     "name": "stdout",
     "output_type": "stream",
     "text": [
      "deque([3, 4, 10, 0, 1, 2])\n",
      "deque([2, 3, 4, 10, 0, 1])\n",
      "deque([2, 3, 4, 10, 0, 1, 100])\n",
      "deque([200, 2, 3, 4, 10, 0, 1, 100])\n"
     ]
    }
   ],
   "source": [
    "deque_list.rotate(2)\n",
    "print(deque_list)\n",
    "deque_list.rotate(1)\n",
    "print(deque_list)\n",
    "deque_list.append(100)\n",
    "print(deque_list)\n",
    "deque_list.appendleft(200)\n",
    "print(deque_list)\n",
    "deque_list.extend([5, 6, 7])\n",
    "deque_list.extendleft([5, 6, 7])"
   ]
  },
  {
   "cell_type": "code",
   "execution_count": 9,
   "id": "44416a9d",
   "metadata": {},
   "outputs": [
    {
     "name": "stdout",
     "output_type": "stream",
     "text": [
      "18.7 µs ± 1.48 µs per loop (mean ± std. dev. of 7 runs, 100,000 loops each)\n"
     ]
    }
   ],
   "source": [
    "def general_list():\n",
    "    just_list = []\n",
    "    for i in range(100):\n",
    "        just_list.append(i)\n",
    "        just_list.pop()\n",
    "%timeit general_list()"
   ]
  },
  {
   "cell_type": "code",
   "execution_count": 11,
   "id": "2d923397",
   "metadata": {},
   "outputs": [
    {
     "name": "stdout",
     "output_type": "stream",
     "text": [
      "665 µs ± 19.5 µs per loop (mean ± std. dev. of 7 runs, 1,000 loops each)\n"
     ]
    }
   ],
   "source": [
    "def deque_list():\n",
    "    deque_list = deque()\n",
    "\n",
    "    for i in range(100):\n",
    "        for i in range(100):\n",
    "            deque_list.append(i)\n",
    "            deque_list.pop()\n",
    "\n",
    "%timeit deque_list()"
   ]
  },
  {
   "cell_type": "code",
   "execution_count": 12,
   "id": "336c919c",
   "metadata": {},
   "outputs": [],
   "source": [
    "case_1 = [\"A\", \"B\", \"C\"]\n",
    "case_2 = [\"D\", \"E\", \"A\"]"
   ]
  },
  {
   "cell_type": "code",
   "execution_count": 13,
   "id": "53e52726",
   "metadata": {},
   "outputs": [
    {
     "data": {
      "text/plain": [
       "['AD', 'AE', 'AA', 'BD', 'BE', 'BA', 'CD', 'CE', 'CA']"
      ]
     },
     "execution_count": 13,
     "metadata": {},
     "output_type": "execute_result"
    }
   ],
   "source": [
    "[i+j for i in case_1 for j in case_2]"
   ]
  },
  {
   "cell_type": "code",
   "execution_count": 14,
   "id": "54be136d",
   "metadata": {},
   "outputs": [
    {
     "data": {
      "text/plain": [
       "[['AD', 'BD', 'CD'], ['AE', 'BE', 'CE'], ['AA', 'BA', 'CA']]"
      ]
     },
     "execution_count": 14,
     "metadata": {},
     "output_type": "execute_result"
    }
   ],
   "source": [
    "[[i+j for i in case_1]for j in case_2]"
   ]
  },
  {
   "cell_type": "code",
   "execution_count": 15,
   "id": "e9449e29",
   "metadata": {},
   "outputs": [
    {
     "data": {
      "text/plain": [
       "[['DA', 'DB', 'DC'], ['EA', 'EB', 'EC'], ['AA', 'AB', 'AC']]"
      ]
     },
     "execution_count": 15,
     "metadata": {},
     "output_type": "execute_result"
    }
   ],
   "source": [
    "[[j + i for i in case_1 if j !=\"C\"] for j in case_2]"
   ]
  },
  {
   "cell_type": "code",
   "execution_count": 17,
   "id": "c58a74af",
   "metadata": {},
   "outputs": [
    {
     "name": "stdout",
     "output_type": "stream",
     "text": [
      "0 \t A\n",
      "1 \t B\n",
      "2 \t C\n"
     ]
    }
   ],
   "source": [
    "for i, v in enumerate(\"ABC\"):\n",
    "    print(\"{0} \\t {1}\".format(i, v))"
   ]
  },
  {
   "cell_type": "code",
   "execution_count": 1,
   "id": "0c3d5bb7",
   "metadata": {},
   "outputs": [],
   "source": [
    "class Note(object):\n",
    "    def __init__(self, content = None):\n",
    "        self.content = content\n",
    "        self.page_number = 0\n",
    "\n",
    "    def write_content(self, content):\n",
    "        self.content = content\n",
    "\n",
    "    def remove_all(self):\n",
    "        self.content = \"\"\n",
    "\n",
    "    def __add__(self, other):\n",
    "        return self.content + other.content\n",
    "\n",
    "    def __str__(self):\n",
    "        return self.content"
   ]
  },
  {
   "cell_type": "code",
   "execution_count": 18,
   "id": "ecb59c9a",
   "metadata": {},
   "outputs": [],
   "source": [
    "class NoteBook(object):\n",
    "    def __init__(self, title):\n",
    "        self.title = title\n",
    "        self.page_number = 1\n",
    "        self.page = 0\n",
    "        self.notes = {}\n",
    "\n",
    "    def add_note(self, note, page=0):\n",
    "        if self.page < 300:\n",
    "            if page == 0:\n",
    "                self.notes[self.page_number] = note\n",
    "                self.page_number += 1\n",
    "            else:\n",
    "                self.notes[page] = note\n",
    "                self.page_number += 1\n",
    "        else:\n",
    "            print(\"Notebook is full, cannot add page.\")\n",
    "\n",
    "    def remove_note(self, page_number):\n",
    "        if page_number in self.notes.keys():\n",
    "            return self.notes.pop(page_number)\n",
    "        else:\n",
    "            print(\"This page does not exist\")\n",
    "    def get_number_of_pages(self):\n",
    "        return len(self.notes.keys())"
   ]
  },
  {
   "cell_type": "code",
   "execution_count": 11,
   "id": "106a2d3a",
   "metadata": {},
   "outputs": [
    {
     "name": "stdout",
     "output_type": "stream",
     "text": [
      "<__main__.NoteBook object at 0x7fbe18cb4040>\n"
     ]
    }
   ],
   "source": [
    "my_notebook = NoteBook(\"Trial\")\n",
    "print(my_notebook)"
   ]
  },
  {
   "cell_type": "code",
   "execution_count": 12,
   "id": "f8105f0b",
   "metadata": {},
   "outputs": [
    {
     "name": "stdout",
     "output_type": "stream",
     "text": [
      "Trial\n"
     ]
    }
   ],
   "source": [
    "print(my_notebook.title)"
   ]
  },
  {
   "cell_type": "code",
   "execution_count": 13,
   "id": "ab4dde2a",
   "metadata": {},
   "outputs": [
    {
     "name": "stdout",
     "output_type": "stream",
     "text": [
      "Blah Blah Blah\n"
     ]
    }
   ],
   "source": [
    "new_note = Note(\"Blah Blah Blah\")\n",
    "print(new_note)"
   ]
  },
  {
   "cell_type": "code",
   "execution_count": 16,
   "id": "455099c3",
   "metadata": {},
   "outputs": [
    {
     "name": "stdout",
     "output_type": "stream",
     "text": [
      "Haha\n"
     ]
    }
   ],
   "source": [
    "new_note_1 = Note(\"Haha\")\n",
    "print(new_note_1)"
   ]
  },
  {
   "cell_type": "code",
   "execution_count": 17,
   "id": "0566a239",
   "metadata": {},
   "outputs": [
    {
     "name": "stdout",
     "output_type": "stream",
     "text": [
      "Woohaha\n"
     ]
    }
   ],
   "source": [
    "new_note_2 = Note(\"Woohaha\")\n",
    "print(new_note_2)"
   ]
  },
  {
   "cell_type": "code",
   "execution_count": 19,
   "id": "09d1f7de",
   "metadata": {},
   "outputs": [
    {
     "ename": "AttributeError",
     "evalue": "'NoteBook' object has no attribute 'page'",
     "output_type": "error",
     "traceback": [
      "\u001b[0;31m---------------------------------------------------------------------------\u001b[0m",
      "\u001b[0;31mAttributeError\u001b[0m                            Traceback (most recent call last)",
      "Cell \u001b[0;32mIn[19], line 1\u001b[0m\n\u001b[0;32m----> 1\u001b[0m \u001b[43mmy_notebook\u001b[49m\u001b[38;5;241;43m.\u001b[39;49m\u001b[43madd_note\u001b[49m\u001b[43m(\u001b[49m\u001b[43mnew_note\u001b[49m\u001b[43m,\u001b[49m\u001b[43m \u001b[49m\u001b[38;5;241;43m0\u001b[39;49m\u001b[43m)\u001b[49m\n\u001b[1;32m      2\u001b[0m my_notebook\u001b[38;5;241m.\u001b[39madd_note(new_note_1, \u001b[38;5;241m100\u001b[39m)\n",
      "Cell \u001b[0;32mIn[2], line 8\u001b[0m, in \u001b[0;36mNoteBook.add_note\u001b[0;34m(self, note, page)\u001b[0m\n\u001b[1;32m      7\u001b[0m \u001b[38;5;28;01mdef\u001b[39;00m \u001b[38;5;21madd_note\u001b[39m(\u001b[38;5;28mself\u001b[39m, note, page\u001b[38;5;241m=\u001b[39m\u001b[38;5;241m0\u001b[39m):\n\u001b[0;32m----> 8\u001b[0m     \u001b[38;5;28;01mif\u001b[39;00m \u001b[38;5;28;43mself\u001b[39;49m\u001b[38;5;241;43m.\u001b[39;49m\u001b[43mpage\u001b[49m \u001b[38;5;241m<\u001b[39m \u001b[38;5;241m300\u001b[39m:\n\u001b[1;32m      9\u001b[0m         \u001b[38;5;28;01mif\u001b[39;00m page \u001b[38;5;241m==\u001b[39m \u001b[38;5;241m0\u001b[39m:\n\u001b[1;32m     10\u001b[0m             \u001b[38;5;28mself\u001b[39m\u001b[38;5;241m.\u001b[39mnotes[\u001b[38;5;28mself\u001b[39m\u001b[38;5;241m.\u001b[39mpage_number] \u001b[38;5;241m=\u001b[39m note\n",
      "\u001b[0;31mAttributeError\u001b[0m: 'NoteBook' object has no attribute 'page'"
     ]
    }
   ],
   "source": [
    "my_notebook.add_note(new_note, 0)\n",
    "my_notebook.add_note(new_note_1, 100)"
   ]
  },
  {
   "cell_type": "code",
   "execution_count": 26,
   "id": "7ae300db",
   "metadata": {},
   "outputs": [
    {
     "name": "stdout",
     "output_type": "stream",
     "text": [
      "1\n"
     ]
    }
   ],
   "source": [
    "print(my_notebook.get_number_of_pages() )"
   ]
  },
  {
   "cell_type": "code",
   "execution_count": 24,
   "id": "5fc7ca9b",
   "metadata": {},
   "outputs": [],
   "source": [
    "my_notebook.notes[1] = \"HiHi\""
   ]
  },
  {
   "cell_type": "code",
   "execution_count": 25,
   "id": "efb54928",
   "metadata": {},
   "outputs": [
    {
     "name": "stdout",
     "output_type": "stream",
     "text": [
      "HiHi\n"
     ]
    }
   ],
   "source": [
    "print(my_notebook.notes[1])"
   ]
  },
  {
   "cell_type": "code",
   "execution_count": null,
   "id": "6e447058",
   "metadata": {},
   "outputs": [],
   "source": []
  }
 ],
 "metadata": {
  "kernelspec": {
   "display_name": "Python 3 (ipykernel)",
   "language": "python",
   "name": "python3"
  },
  "language_info": {
   "codemirror_mode": {
    "name": "ipython",
    "version": 3
   },
   "file_extension": ".py",
   "mimetype": "text/x-python",
   "name": "python",
   "nbconvert_exporter": "python",
   "pygments_lexer": "ipython3",
   "version": "3.10.9"
  }
 },
 "nbformat": 4,
 "nbformat_minor": 5
}
