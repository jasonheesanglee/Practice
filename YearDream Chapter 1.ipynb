{
 "cells": [
  {
   "cell_type": "markdown",
   "id": "3f9753c5",
   "metadata": {},
   "source": [
    "### Python Data Type\n",
    "\n",
    "1. int (v)\n",
    "2. float\n",
    "3. str (v)\n",
    "4. list (v)\n",
    "5. tuple\n",
    "6. set\n",
    "7. dict"
   ]
  },
  {
   "cell_type": "code",
   "execution_count": 13,
   "id": "21e6f517",
   "metadata": {},
   "outputs": [
    {
     "data": {
      "text/plain": [
       "10"
      ]
     },
     "execution_count": 13,
     "metadata": {},
     "output_type": "execute_result"
    }
   ],
   "source": [
    "# 1. int\n",
    "\n",
    "a = 10 # Dynamic type binding\n",
    "# 10 = a # = is not =, it is more like <- (lvalue (variable) = rvalue (value / data))\n",
    "a"
   ]
  },
  {
   "cell_type": "code",
   "execution_count": 15,
   "id": "4a757a76",
   "metadata": {},
   "outputs": [
    {
     "data": {
      "text/plain": [
       "10"
      ]
     },
     "execution_count": 15,
     "metadata": {},
     "output_type": "execute_result"
    }
   ],
   "source": [
    "b = a # a is already a data\n",
    "b"
   ]
  },
  {
   "cell_type": "code",
   "execution_count": 26,
   "id": "061c6a69",
   "metadata": {},
   "outputs": [
    {
     "name": "stdout",
     "output_type": "stream",
     "text": [
      "Hello World\n",
      "\n",
      "Hello World\n",
      "!!!\n",
      "\n",
      "\n",
      "Hello World!!!\n",
      "!!!Hello World\n"
     ]
    }
   ],
   "source": [
    "# 3. str (= character sequence)\n",
    "\n",
    "s = \"Hello World\"\n",
    "print(s)\n",
    "print()\n",
    "\n",
    "s2 = \"!!!\"\n",
    "print(s)\n",
    "print(s2)\n",
    "print()\n",
    "\n",
    "print(s + s2) # concatenation\n",
    "print(s2 + s)"
   ]
  },
  {
   "cell_type": "code",
   "execution_count": 27,
   "id": "509901ad",
   "metadata": {},
   "outputs": [
    {
     "data": {
      "text/plain": [
       "'!!!'"
      ]
     },
     "execution_count": 27,
     "metadata": {},
     "output_type": "execute_result"
    }
   ],
   "source": [
    "s\n",
    "s2"
   ]
  },
  {
   "cell_type": "code",
   "execution_count": 40,
   "id": "84684068",
   "metadata": {},
   "outputs": [
    {
     "name": "stdout",
     "output_type": "stream",
     "text": [
      "[1, 2, 3, 4, 5]\n",
      "[1, 3.14, 'a', [1, 2]]\n",
      "\n",
      "[1, 10, 3, 4, 5]\n",
      "[1, 10, 'a', 3, 4, 5]\n",
      "[1, 10, 3, 4, 5]\n"
     ]
    }
   ],
   "source": [
    "# 4. List : Flexible\n",
    "L = [1, 2, 3, 4, 5]\n",
    "L2 = [1, 3.14, \"a\", [1, 2]]\n",
    "print(L)\n",
    "print(L2)\n",
    "print()\n",
    "\n",
    "# 4.1 Update Element\n",
    "L[1] = 10 # L의 두번째 원소를 10으로 바꿈.\n",
    "print(L)\n",
    "\n",
    "# 4.2 Insert Element\n",
    "L.insert(2,\"a\") # L의 세번째 원소 앞에 \"a\"를 추가함.\n",
    "print(L)\n",
    "\n",
    "# 4.3 Remove Element\n",
    "L.remove(\"a\") # L에 첫번째부터 보면서 처음으로 만난 \"a\"를 제거함.\n",
    "print(L)\n"
   ]
  },
  {
   "cell_type": "code",
   "execution_count": 45,
   "id": "dc6a1adf",
   "metadata": {},
   "outputs": [
    {
     "name": "stdout",
     "output_type": "stream",
     "text": [
      "['a', 10, 3, 4, 5]\n",
      "[1, 3.14, 'a', ['a', 2]]\n"
     ]
    },
    {
     "data": {
      "text/plain": [
       "(['a', 10, 3, 4, 5], [1, 3.14, 'a', ['a', 2]])"
      ]
     },
     "execution_count": 45,
     "metadata": {},
     "output_type": "execute_result"
    }
   ],
   "source": [
    "L[0] = \"a\"\n",
    "L2[3][0] = \"a\"\n",
    "print(L)\n",
    "print(L2)\n",
    "\n",
    "L, L2"
   ]
  },
  {
   "cell_type": "markdown",
   "id": "ab3305da",
   "metadata": {},
   "source": [
    "### Python if, while, for\n",
    "\n",
    "- if : 조건문\n",
    "\n",
    "- while : 조건에 따른 반복문 (무한루프)\n",
    "\n",
    "- for : 횟수에 따른 반복문"
   ]
  },
  {
   "cell_type": "code",
   "execution_count": 92,
   "id": "d460fea9",
   "metadata": {},
   "outputs": [
    {
     "name": "stdout",
     "output_type": "stream",
     "text": [
      "2 X 1 = 2\n",
      "2 X 2 = 4\n",
      "2 X 3 = 6\n",
      "2 X 4 = 8\n",
      "2 X 5 = 10\n",
      "2 X 6 = 12\n",
      "2 X 7 = 14\n",
      "2 X 8 = 16\n",
      "2 X 9 = 18\n",
      "\n",
      "2 x 1 = 2\n",
      "2 x 2 = 4\n",
      "2 x 3 = 6\n",
      "2 x 4 = 8\n",
      "2 x 5 = 10\n",
      "2 x 6 = 12\n",
      "2 x 7 = 14\n",
      "2 x 8 = 16\n",
      "2 x 9 = 18\n",
      "\n",
      "2 x 1 = 2\n",
      "2 x 2 = 4\n",
      "2 x 3 = 6\n",
      "2 x 4 = 8\n",
      "2 x 5 = 10\n",
      "2 x 6 = 12\n",
      "2 x 7 = 14\n",
      "2 x 8 = 16\n",
      "2 x 9 = 18\n",
      "\n",
      "2 x 1 = 2\n",
      "2 x 2 = 4\n",
      "2 x 3 = 6\n",
      "2 x 4 = 8\n",
      "2 x 5 = 10\n",
      "2 x 6 = 12\n",
      "2 x 7 = 14\n",
      "2 x 8 = 16\n",
      "2 x 9 = 18\n"
     ]
    }
   ],
   "source": [
    "# Q. 구구단 2단 출력\n",
    "\n",
    "a = 2\n",
    "\n",
    "\n",
    "for i in range(1,10):\n",
    "    print(\"2 X\", i, \"=\", i*2)\n",
    "\n",
    "print()\n",
    "\n",
    "# fstring\n",
    "\n",
    "for i in range(1,10):\n",
    "    print(\"{} x {} = {}\".format(a, i, i*2))\n",
    "\n",
    "print()\n",
    "\n",
    "for number in range(1,10):\n",
    "    print(f\"2 x {number} = {2*number}\")\n",
    "\n",
    "    \n",
    "print()\n",
    "\n",
    "number = 1\n",
    "\n",
    "while 1 <= number <= 9:\n",
    "    print(f\"2 x {number} = {2*number}\")\n",
    "    number = number + 1\n"
   ]
  },
  {
   "cell_type": "code",
   "execution_count": 88,
   "id": "dc371eb9",
   "metadata": {},
   "outputs": [
    {
     "name": "stdout",
     "output_type": "stream",
     "text": [
      "2 x 1 = 2\n",
      "2 x 2 = 4\n",
      "2 x 3 = 6\n",
      "2 x 4 = 8\n",
      "2 x 5 = 10\n",
      "2 x 6 = 12\n",
      "2 x 7 = 14\n",
      "2 x 8 = 16\n",
      "2 x 9 = 18\n"
     ]
    }
   ],
   "source": [
    "number = 0\n",
    "\n",
    "while 0 <= number <= 9:\n",
    "    if number == 0:\n",
    "        number = number + 1\n",
    "        continue\n",
    "    else:\n",
    "        print(f\"2 x {number} = {2*number}\")\n",
    "        number = number + 1"
   ]
  }
 ],
 "metadata": {
  "kernelspec": {
   "display_name": "Python 3 (ipykernel)",
   "language": "python",
   "name": "python3"
  },
  "language_info": {
   "codemirror_mode": {
    "name": "ipython",
    "version": 3
   },
   "file_extension": ".py",
   "mimetype": "text/x-python",
   "name": "python",
   "nbconvert_exporter": "python",
   "pygments_lexer": "ipython3",
   "version": "3.10.9"
  }
 },
 "nbformat": 4,
 "nbformat_minor": 5
}
